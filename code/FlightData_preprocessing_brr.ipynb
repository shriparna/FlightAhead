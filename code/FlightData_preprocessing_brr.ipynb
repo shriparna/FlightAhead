{
 "cells": [
  {
   "cell_type": "code",
   "execution_count": null,
   "metadata": {},
   "outputs": [],
   "source": [
    "# from sklearn.model_selection import train_test_split\n",
    "from sklearn.preprocessing import StandardScaler, MinMaxScaler\n",
    "import pandas as pd\n",
    "import numpy as np\n",
    "# import tensorflow as tf"
   ]
  },
  {
   "cell_type": "code",
   "execution_count": null,
   "metadata": {},
   "outputs": [],
   "source": [
    "#  Import and read the flight data for 2018.\n",
    "import pandas as pd\n",
    "flight_18_df = pd.read_csv(\"Data_files/2018.csv\")\n",
    "flight_18_df.head()"
   ]
  },
  {
   "cell_type": "code",
   "execution_count": null,
   "metadata": {},
   "outputs": [],
   "source": [
    "# Check data types. \n",
    "flight_18_df.info()"
   ]
  },
  {
   "cell_type": "code",
   "execution_count": null,
   "metadata": {},
   "outputs": [],
   "source": [
    "# Convert flight date to datetime. \n",
    "flight_18_df[\"FL_DATE\"] = pd.to_datetime(flight_18_df[\"FL_DATE\"])"
   ]
  },
  {
   "cell_type": "code",
   "execution_count": null,
   "metadata": {},
   "outputs": [],
   "source": [
    "# Separate the datetime column into columns for year, month, day, and weekday. \n",
    "flight_18_df[\"YEAR\"]=flight_18_df[\"FL_DATE\"].dt.year\n",
    "flight_18_df[\"MONTH\"]=flight_18_df[\"FL_DATE\"].dt.month\n",
    "flight_18_df[\"DAY\"]=flight_18_df[\"FL_DATE\"].dt.day\n",
    "# flight_18_df[\"WEEKDAY\"]=flight_18_df[\"FL_DATE\"].dt.dayofweek\n",
    "flight_18_df[\"WEEKDAY\"]=flight_18_df['FL_DATE'].dt.strftime('%A')"
   ]
  },
  {
   "cell_type": "code",
   "execution_count": null,
   "metadata": {},
   "outputs": [],
   "source": [
    "# Drop columns that we won't need for our models. \n",
    "prio_flight_18_df = flight_18_df.drop([\"FL_DATE\", \"OP_CARRIER_FL_NUM\", \"DEP_TIME\", \"TAXI_OUT\", \"WHEELS_OFF\", \"WHEELS_ON\", \"TAXI_IN\", \"ARR_TIME\", \"CANCELLATION_CODE\", \"ACTUAL_ELAPSED_TIME\", \"AIR_TIME\", \"DISTANCE\", \"CARRIER_DELAY\", \"NAS_DELAY\", \"SECURITY_DELAY\", \"Unnamed: 27\", \"YEAR\", \"DAY\", \"CRS_ARR_TIME\"],axis=1)\n",
    "prio_flight_18_df.head()"
   ]
  },
  {
   "cell_type": "code",
   "execution_count": null,
   "metadata": {},
   "outputs": [],
   "source": [
    "# Fill all null values with zeros. \n",
    "prio_flight_18_df = prio_flight_18_df.fillna(0)"
   ]
  },
  {
   "cell_type": "code",
   "execution_count": null,
   "metadata": {},
   "outputs": [],
   "source": [
    "# Categorize the scheduled departure time to four key times of day. \n",
    "prio_flight_18_df.loc[(prio_flight_18_df[\"CRS_DEP_TIME\"] >= 0) & (prio_flight_18_df[\"CRS_DEP_TIME\"] < 600), \"sched_dep_time\"] = \"Night\"\n",
    "prio_flight_18_df.loc[(prio_flight_18_df[\"CRS_DEP_TIME\"] >= 600) & (prio_flight_18_df[\"CRS_DEP_TIME\"] < 1200), \"sched_dep_time\"] = \"Morning\"\n",
    "prio_flight_18_df.loc[(prio_flight_18_df[\"CRS_DEP_TIME\"] >= 1200) & (prio_flight_18_df[\"CRS_DEP_TIME\"] < 1800), \"sched_dep_time\"] = \"Afternoon\"\n",
    "prio_flight_18_df.loc[(prio_flight_18_df[\"CRS_DEP_TIME\"] >= 1800) & (prio_flight_18_df[\"CRS_DEP_TIME\"] < 2400), \"sched_dep_time\"] = \"Evening\"\n",
    "prio_flight_18_df.head(20)"
   ]
  },
  {
   "cell_type": "code",
   "execution_count": null,
   "metadata": {},
   "outputs": [],
   "source": [
    "# Categorize the months column by season. \n",
    "prio_flight_18_df.loc[(prio_flight_18_df[\"MONTH\"] == 12) | (prio_flight_18_df[\"MONTH\"] == 1) | (prio_flight_18_df[\"MONTH\"] == 2), \"season\"] = \"Winter\"\n",
    "prio_flight_18_df.loc[(prio_flight_18_df[\"MONTH\"] > 2) & (prio_flight_18_df[\"MONTH\"] <= 5), \"season\"] = \"Spring\"\n",
    "prio_flight_18_df.loc[(prio_flight_18_df[\"MONTH\"] > 5) & (prio_flight_18_df[\"MONTH\"] <= 8), \"season\"] = \"Summer\"\n",
    "prio_flight_18_df.loc[(prio_flight_18_df[\"MONTH\"] > 8) & (prio_flight_18_df[\"MONTH\"] <= 11), \"season\"] = \"Autumn\""
   ]
  },
  {
   "cell_type": "code",
   "execution_count": null,
   "metadata": {},
   "outputs": [],
   "source": [
    "# Categorize each flight as impacted by a weather delay or not. \n",
    "prio_flight_18_df.loc[(prio_flight_18_df[\"WEATHER_DELAY\"] > 0), \"delays_weather\"] = \"yes\"\n",
    "prio_flight_18_df.loc[(prio_flight_18_df[\"WEATHER_DELAY\"] == 0), \"delays_weather\"] = \"no\""
   ]
  },
  {
   "cell_type": "code",
   "execution_count": null,
   "metadata": {},
   "outputs": [],
   "source": [
    "# Categorize each flight as impacted by a late aircraft delay or not. \n",
    "prio_flight_18_df.loc[(prio_flight_18_df[\"LATE_AIRCRAFT_DELAY\"] > 0), \"delays_late_aircraft\"] = \"yes\"\n",
    "prio_flight_18_df.loc[(prio_flight_18_df[\"LATE_AIRCRAFT_DELAY\"] == 0), \"delays_late_aircraft\"] = \"no\""
   ]
  },
  {
   "cell_type": "code",
   "execution_count": null,
   "metadata": {},
   "outputs": [],
   "source": [
    "# Drop unnecessary columns that have been replaced by new categorized columns. \n",
    "prio_flight_18_df = prio_flight_18_df.drop([\"CRS_DEP_TIME\", \"WEATHER_DELAY\", \"LATE_AIRCRAFT_DELAY\", \"MONTH\"],axis=1)"
   ]
  },
  {
   "cell_type": "code",
   "execution_count": null,
   "metadata": {},
   "outputs": [],
   "source": [
    "prio_flight_18_df.head()"
   ]
  },
  {
   "cell_type": "code",
   "execution_count": null,
   "metadata": {},
   "outputs": [],
   "source": [
    "# Categorize each flight as delayed or not, based on if the flight arrived at its destination late. \n",
    "prio_flight_18_df['DELAY'] = np.where((prio_flight_18_df.ARR_DELAY > 0), 1, 0)\n",
    "prio_flight_18_df.head()"
   ]
  },
  {
   "cell_type": "code",
   "execution_count": null,
   "metadata": {},
   "outputs": [],
   "source": [
    "# Determine the top 5 airports so we can narrow the scope of the analysis. \n",
    "prio_flight_18_df[\"ORIGIN\"].value_counts()"
   ]
  },
  {
   "cell_type": "code",
   "execution_count": null,
   "metadata": {},
   "outputs": [],
   "source": [
    "# Determine the top 5 airports so we can narrow the scope of the analysis. \n",
    "prio_flight_18_df[\"DEST\"].value_counts()"
   ]
  },
  {
   "cell_type": "code",
   "execution_count": null,
   "metadata": {},
   "outputs": [],
   "source": [
    "# Determine the top 5 airlines so we can narrow the scope of the analysis. \n",
    "prio_flight_18_df[\"OP_CARRIER\"].value_counts()"
   ]
  },
  {
   "cell_type": "code",
   "execution_count": null,
   "metadata": {},
   "outputs": [],
   "source": [
    "# Create lists to represent the top 5 airports and airlines. \n",
    "top_airports = [\"ATL\",\"ORD\",\"DFW\",\"CLT\",\"DEN\"]\n",
    "top_airlines = [\"WN\", \"DL\", \"AA\", \"OO\", \"UA\"]"
   ]
  },
  {
   "cell_type": "code",
   "execution_count": null,
   "metadata": {},
   "outputs": [],
   "source": [
    "# Limit the data frame to include only the top 5 airports and airlines. \n",
    "top_prio_flight_18_df = prio_flight_18_df.loc[prio_flight_18_df['ORIGIN'].isin(top_airports)]\n",
    "top_prio_flight_18_df = top_prio_flight_18_df.loc[prio_flight_18_df['DEST'].isin(top_airports)]\n",
    "top_prio_flight_18_df = top_prio_flight_18_df.loc[prio_flight_18_df['OP_CARRIER'].isin(top_airlines)]\n",
    "top_prio_flight_18_df = top_prio_flight_18_df.reset_index(drop=True)"
   ]
  },
  {
   "cell_type": "code",
   "execution_count": null,
   "metadata": {},
   "outputs": [],
   "source": [
    "# Review the columns to determine which need to be scaled and which need one hot encoding. \n",
    "top_prio_flight_18_df.info()"
   ]
  },
  {
   "cell_type": "code",
   "execution_count": null,
   "metadata": {},
   "outputs": [],
   "source": [
    "# Scale the numeric columns: \n",
    "flight_data_scaled = StandardScaler().fit_transform(top_prio_flight_18_df[[\"DEP_DELAY\", \"ARR_DELAY\", \"CRS_ELAPSED_TIME\"]])"
   ]
  },
  {
   "cell_type": "code",
   "execution_count": null,
   "metadata": {},
   "outputs": [],
   "source": [
    "# Create a data frame. \n",
    "top_prio_flight_scaled = pd.DataFrame(\n",
    "    flight_data_scaled,\n",
    "    columns=[\"DEP_DELAY\", \"ARR_DELAY\", \"CRS_ELAPSED_TIME\"]\n",
    ")"
   ]
  },
  {
   "cell_type": "code",
   "execution_count": null,
   "metadata": {},
   "outputs": [],
   "source": [
    "# Check the data frame. \n",
    "top_prio_flight_scaled"
   ]
  },
  {
   "cell_type": "code",
   "execution_count": null,
   "metadata": {},
   "outputs": [],
   "source": [
    "# Get dummies for the categorical columns: \n",
    "flight_dummies = pd.get_dummies(top_prio_flight_18_df[[\"OP_CARRIER\", \"ORIGIN\", \"DEST\", \"WEEKDAY\", \"sched_dep_time\", \"season\", \"delays_weather\", \"delays_late_aircraft\"]])"
   ]
  },
  {
   "cell_type": "code",
   "execution_count": null,
   "metadata": {},
   "outputs": [],
   "source": [
    "# Check the data frame. \n",
    "flight_dummies"
   ]
  },
  {
   "cell_type": "code",
   "execution_count": null,
   "metadata": {},
   "outputs": [],
   "source": [
    "# Confirm dummies. \n",
    "list(flight_dummies.columns)"
   ]
  },
  {
   "cell_type": "code",
   "execution_count": null,
   "metadata": {},
   "outputs": [],
   "source": [
    "# Isolate variables that we're trying to predict. \n",
    "variables_predicting_df = top_prio_flight_18_df[['CANCELLED','DIVERTED','DELAY']]"
   ]
  },
  {
   "cell_type": "code",
   "execution_count": null,
   "metadata": {},
   "outputs": [],
   "source": [
    "# Check the data frame. \n",
    "variables_predicting_df"
   ]
  },
  {
   "cell_type": "code",
   "execution_count": null,
   "metadata": {},
   "outputs": [],
   "source": [
    "# Concatenate the three data frames. \n",
    "cleaned_flights_df = pd.concat([top_prio_flight_scaled, flight_dummies, variables_predicting_df], axis=1)"
   ]
  },
  {
   "cell_type": "code",
   "execution_count": null,
   "metadata": {},
   "outputs": [],
   "source": [
    "cleaned_flights_df"
   ]
  },
  {
   "cell_type": "code",
   "execution_count": null,
   "metadata": {},
   "outputs": [],
   "source": [
    "# Save the cleaned data to a CSV. \n",
    "cleaned_flights_df.to_csv(\"Data_files/2018_cleaned.csv\", index=False)"
   ]
  }
 ],
 "metadata": {
  "kernelspec": {
   "display_name": "PythonDataTwo",
   "language": "python",
   "name": "pythondatatwo"
  },
  "language_info": {
   "codemirror_mode": {
    "name": "ipython",
    "version": 3
   },
   "file_extension": ".py",
   "mimetype": "text/x-python",
   "name": "python",
   "nbconvert_exporter": "python",
   "pygments_lexer": "ipython3",
   "version": "3.10.11"
  }
 },
 "nbformat": 4,
 "nbformat_minor": 2
}
